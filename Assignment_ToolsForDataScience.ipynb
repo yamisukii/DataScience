{
 "cells": [
  {
   "cell_type": "markdown",
   "id": "239683eb",
   "metadata": {},
   "source": [
    "# This notebook is about data science tools and arithmetic expressions"
   ]
  },
  {
   "cell_type": "markdown",
   "id": "36728866",
   "metadata": {},
   "source": [
    "## Welcome to my data science notebook! Here we will explore some of the most popular tools used in data science.\n"
   ]
  },
  {
   "cell_type": "markdown",
   "id": "f690f5db",
   "metadata": {},
   "source": [
    "### Here are some of the most popular data science languages:\n",
    "- Python\n",
    "- R\n",
    "- Julia"
   ]
  },
  {
   "cell_type": "markdown",
   "id": "6eb7a569",
   "metadata": {},
   "source": [
    "### Here are some of the most popular data science libraries:\n",
    "- Pandas\n",
    "- NumPy\n",
    "- Matplotlib\n",
    "- Scikit-Learn"
   ]
  },
  {
   "cell_type": "markdown",
   "id": "016661ca",
   "metadata": {},
   "source": [
    "| Tool           | Description                                                            |\n",
    "|----------------|------------------------------------------------------------------------|\n",
    "| Jupyter Notebook | Interactive notebook for code, visualizations, and documentation       |\n",
    "| GitHub           | Version control and collaboration platform for code                     |\n",
    "| Tableau          | Data visualization tool for creating interactive dashboards and reports |\n",
    "| SQL              | Programming language for managing and analyzing data in databases      |\n"
   ]
  },
  {
   "cell_type": "markdown",
   "id": "6c00cc9c",
   "metadata": {},
   "source": [
    "### In this section, we will explore some examples of arithmetic expressions in Python.\n"
   ]
  },
  {
   "cell_type": "code",
   "execution_count": 2,
   "id": "afb0246e",
   "metadata": {},
   "outputs": [
    {
     "name": "stdout",
     "output_type": "stream",
     "text": [
      "50\n"
     ]
    }
   ],
   "source": [
    "## Multiplication\n",
    "x = 10\n",
    "y = 5\n",
    "z = x * y\n",
    "print(z)"
   ]
  },
  {
   "cell_type": "code",
   "execution_count": 3,
   "id": "7dc68e68",
   "metadata": {},
   "outputs": [
    {
     "name": "stdout",
     "output_type": "stream",
     "text": [
      "35\n"
     ]
    }
   ],
   "source": [
    "## Addition\n",
    "a = 15\n",
    "b = 20\n",
    "c = a + b\n",
    "print(c)"
   ]
  },
  {
   "cell_type": "code",
   "execution_count": 4,
   "id": "dea67c3e",
   "metadata": {},
   "outputs": [
    {
     "name": "stdout",
     "output_type": "stream",
     "text": [
      "1.5\n"
     ]
    }
   ],
   "source": [
    "## min to h\n",
    "minutes = 90\n",
    "hours = minutes / 60\n",
    "print(hours)"
   ]
  },
  {
   "cell_type": "markdown",
   "id": "98e4043c",
   "metadata": {},
   "source": [
    "- Explore popular data science tools\n",
    "- Learn about arithmetic expressions in Python\n"
   ]
  },
  {
   "cell_type": "markdown",
   "id": "452cad0d",
   "metadata": {},
   "source": [
    "## Author: Stefan Merdian"
   ]
  },
  {
   "cell_type": "code",
   "execution_count": null,
   "id": "71d1fe0d",
   "metadata": {},
   "outputs": [],
   "source": []
  }
 ],
 "metadata": {
  "kernelspec": {
   "display_name": "Python 3 (ipykernel)",
   "language": "python",
   "name": "python3"
  },
  "language_info": {
   "codemirror_mode": {
    "name": "ipython",
    "version": 3
   },
   "file_extension": ".py",
   "mimetype": "text/x-python",
   "name": "python",
   "nbconvert_exporter": "python",
   "pygments_lexer": "ipython3",
   "version": "3.9.13"
  }
 },
 "nbformat": 4,
 "nbformat_minor": 5
}
